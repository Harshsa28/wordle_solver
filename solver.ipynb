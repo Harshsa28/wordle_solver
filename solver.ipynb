{
 "cells": [
  {
   "cell_type": "code",
   "execution_count": 147,
   "metadata": {},
   "outputs": [],
   "source": [
    "def get_words(filename):\n",
    "    with open(filename) as f:\n",
    "        lines = [line.strip() for line in f]\n",
    "        assert(len(lines) == 1)\n",
    "        line = lines[0]\n",
    "        words = line.split(',')\n",
    "        for i in range(len(words)):\n",
    "            words[i] = words[i].strip()[1:-1]\n",
    "        return words"
   ]
  },
  {
   "cell_type": "code",
   "execution_count": 148,
   "metadata": {},
   "outputs": [],
   "source": [
    "final_words_loc = \"/home/harsh/now/wordle/words1.txt\"\n",
    "attempt_words_loc = \"/home/harsh/now/wordle/words2.txt\""
   ]
  },
  {
   "cell_type": "code",
   "execution_count": 149,
   "metadata": {},
   "outputs": [],
   "source": [
    "final_words = get_words(final_words_loc)  # final answer possibilities\n",
    "# attempt_words = get_words(attempt_words_loc)  # attempted answer possibilities"
   ]
  },
  {
   "cell_type": "code",
   "execution_count": 150,
   "metadata": {},
   "outputs": [],
   "source": [
    "def get_freq(words):\n",
    "    freq = {}\n",
    "    for char in range(97, 123):\n",
    "        freq[chr(char)] = [0,0,0,0,0] # for 1 occurence, 2 occurences, etc.\n",
    "    assert(len(freq) == 26)\n",
    "    for word in words:\n",
    "        assert(len(word) == 5)\n",
    "        chs = []\n",
    "        for ch in word:\n",
    "            num_ch_yet = chs.count(ch)\n",
    "            freq[ch][num_ch_yet] += 1\n",
    "            chs.append(ch)\n",
    "    return freq"
   ]
  },
  {
   "cell_type": "code",
   "execution_count": 151,
   "metadata": {},
   "outputs": [],
   "source": [
    "freq = get_freq(final_words)"
   ]
  },
  {
   "cell_type": "code",
   "execution_count": 152,
   "metadata": {},
   "outputs": [
    {
     "data": {
      "text/plain": [
       "'\\nIf I get a yellow char, I am going to include it in every further guess. But in certain cases, trying a word without that yellow char might be more useful in reducing number of possibilities. So look into that later.\\n\\nwords with >1 same char will still be problematic. Deal with them\\n\\nI am using only final_words to make guesses right now. Using attempt_words might give me even better results. Attempt words can be really useful to reduce number of possibilities.\\n\\n\\n'"
      ]
     },
     "execution_count": 152,
     "metadata": {},
     "output_type": "execute_result"
    }
   ],
   "source": [
    "'''\n",
    "If I get a yellow char, I am going to include it in every further guess. But in certain cases, trying a word without that yellow char might be more useful in reducing number of possibilities. So look into that later.\n",
    "\n",
    "words with >1 same char will still be problematic. Deal with them\n",
    "\n",
    "I am using only final_words to make guesses right now. Using attempt_words might give me even better results. Attempt words can be really useful to reduce number of possibilities.\n",
    "\n",
    "\n",
    "'''"
   ]
  },
  {
   "cell_type": "code",
   "execution_count": 153,
   "metadata": {},
   "outputs": [],
   "source": [
    "class Solver:\n",
    "    def __init__(self, freq, attempt_words):\n",
    "        self.freq = freq\n",
    "        self.attempt_words = self.initial_attempt_words(attempt_words=attempt_words)\n",
    "        self.constraints = {chr(ch):[] for ch in range(97, 123)}\n",
    "        # for ch in range(97, 123):\n",
    "        #     self.constraints[ch] = [None] * 5\n",
    "    \n",
    "    def solve(self, final_word):\n",
    "        assert(len(final_word) == 5)\n",
    "        num_greens = 0 # 5 greens = win\n",
    "        num_guesses = 0 # max 6 guesses\n",
    "        while num_greens < 5 and num_guesses < 6:\n",
    "            # print(f\"len of self.attempt_words: {len(self.attempt_words)}\")\n",
    "            guess = self.attempt_words[0]\n",
    "            num_guesses += 1\n",
    "            res = self.result(guess, final_word)\n",
    "            for ch_i in range(len(res)):\n",
    "                ch, color = res[ch_i]\n",
    "                self.constraints[ch].append((color, ch_i))\n",
    "                if color == \"green\":\n",
    "                    num_greens += 1\n",
    "            self.update_attempts_words()\n",
    "        return num_guesses\n",
    "    \n",
    "    \n",
    "    def running_solve(self):\n",
    "        num_greens = 0\n",
    "        num_guesses = 0\n",
    "        while num_greens < 5 and num_guesses < 6:\n",
    "            guess = self.attempt_words[0]\n",
    "            num_guesses += 1\n",
    "            res = self.running_result(guess)\n",
    "            print(f\"res is {res}\")\n",
    "            for ch_i in range(len(res)):\n",
    "                ch, color = res[ch_i]\n",
    "                self.constraints[ch].append((color, ch_i))\n",
    "                if color == \"green\":\n",
    "                    num_greens += 1\n",
    "            self.update_attempts_words()\n",
    "        return num_guesses\n",
    "    \n",
    "    def running_result(self, guess):\n",
    "        print(f\"guess is {guess}\")\n",
    "        res = [ch for ch in guess]\n",
    "        inp = input(\"give res:\\n\").split(',') # e.g. gray, yellow, gray, yellow, green\n",
    "        for ch_i in range(len(res)):\n",
    "            ch = res[ch_i]\n",
    "            res[ch_i] = (ch, inp[ch_i])\n",
    "        return res\n",
    "    \n",
    "    \n",
    "    def result(self, guess, final_word):\n",
    "        res = [(ch, None) for ch in guess]\n",
    "        for ch_i in range(len(guess)):\n",
    "            ch = guess[ch_i]\n",
    "            if ch == final_word[ch_i]:\n",
    "                res[ch_i] = (ch, \"green\")\n",
    "            elif ch in final_word:\n",
    "                res[ch_i] = (ch, \"yellow\")\n",
    "            else:\n",
    "                res[ch_i] = (ch, \"gray\")\n",
    "        return res\n",
    "    \n",
    "    \n",
    "    \n",
    "    \n",
    "    def initial_attempt_words(self, attempt_words): # TODO: positional stuff\n",
    "        new_attempt_words = {word:0 for word in attempt_words}\n",
    "        for attempt_word in attempt_words:\n",
    "            assert(len(attempt_word) == 5)\n",
    "            chs = []\n",
    "            attempt_word_score = 0\n",
    "            for ch in attempt_word:\n",
    "                num_ch_yet = chs.count(ch)\n",
    "                attempt_word_score += self.freq[ch][num_ch_yet]\n",
    "                chs.append(ch)\n",
    "            assert(new_attempt_words[attempt_word] == 0)\n",
    "            new_attempt_words[attempt_word] = attempt_word_score\n",
    "        new_attempt_words = sorted(new_attempt_words.items(), key=lambda x: x[1], reverse=True)\n",
    "        new_attempt_words = [word for word, score in new_attempt_words]\n",
    "        return new_attempt_words\n",
    "    \n",
    "    \n",
    "    def update_attempts_words(self):\n",
    "        # updates self.attempt_words based on self.constraints\n",
    "        new_attempt_words = []\n",
    "        for attempt_word in self.attempt_words:\n",
    "            assert(len(attempt_word) == 5)\n",
    "            to_include = True\n",
    "            \n",
    "            for ch, ch_cons in self.constraints.items():\n",
    "                # ch_cons = self.constraints[ch]\n",
    "                for ch_con in ch_cons:\n",
    "                    color, color_index = ch_con\n",
    "                    if color == \"gray\" and not (ch not in attempt_word):\n",
    "                        to_include = False\n",
    "                    elif color == \"yellow\" and not (ch in attempt_word and attempt_word[color_index] != ch):\n",
    "                        to_include = False\n",
    "                    elif color == \"green\" and not (attempt_word[color_index] == ch):\n",
    "                        to_include = False\n",
    "            \n",
    "            if to_include:\n",
    "                new_attempt_words.append(attempt_word)\n",
    "        self.attempt_words = new_attempt_words\n",
    "        \n",
    "    \n",
    "    \n",
    "    \n",
    "    \n",
    "    \n",
    "    \n",
    "    \n"
   ]
  },
  {
   "cell_type": "code",
   "execution_count": 154,
   "metadata": {},
   "outputs": [],
   "source": [
    "solver = Solver(freq, final_words)"
   ]
  },
  {
   "cell_type": "code",
   "execution_count": 155,
   "metadata": {},
   "outputs": [],
   "source": [
    "def score_solver(final_words):\n",
    "    total_guesses = 0 # calc total guesses made yet\n",
    "    total_misses = 0 # calc total misses yet\n",
    "    total_hits = 0\n",
    "    for final_word_i in range(len(final_words)):\n",
    "        final_word = final_words[final_word_i]\n",
    "        solver = Solver(freq, final_words)\n",
    "        num_guesses = solver.solve(final_word)\n",
    "        if num_guesses <= 5:\n",
    "            total_guesses += num_guesses\n",
    "            total_hits += 1\n",
    "        elif num_guesses == 6:\n",
    "            total_misses += 1\n",
    "        # print(f\"final_word_index is {final_word_i}\")\n",
    "    return (total_guesses, total_hits, total_misses)"
   ]
  },
  {
   "cell_type": "code",
   "execution_count": 159,
   "metadata": {},
   "outputs": [
    {
     "name": "stdout",
     "output_type": "stream",
     "text": [
      "total_guesses: 7614 and total_hits: 2315 and total_misses: 0\n"
     ]
    }
   ],
   "source": [
    "total_guesses, total_hits, total_misses = score_solver(final_words)\n",
    "print(f\"total_guesses: {total_guesses} and total_hits: {total_hits} and total_misses: {total_misses}\")"
   ]
  },
  {
   "cell_type": "code",
   "execution_count": null,
   "metadata": {},
   "outputs": [],
   "source": [
    "solver = Solver(freq, final_words)\n",
    "solver.running_solve()"
   ]
  },
  {
   "cell_type": "code",
   "execution_count": 158,
   "metadata": {},
   "outputs": [
    {
     "data": {
      "text/plain": [
       "2315"
      ]
     },
     "execution_count": 158,
     "metadata": {},
     "output_type": "execute_result"
    }
   ],
   "source": [
    "len(final_words)"
   ]
  }
 ],
 "metadata": {
  "interpreter": {
   "hash": "916dbcbb3f70747c44a77c7bcd40155683ae19c65e1c03b4aa3499c5328201f1"
  },
  "kernelspec": {
   "display_name": "Python 3.8.10 64-bit",
   "language": "python",
   "name": "python3"
  },
  "language_info": {
   "codemirror_mode": {
    "name": "ipython",
    "version": 3
   },
   "file_extension": ".py",
   "mimetype": "text/x-python",
   "name": "python",
   "nbconvert_exporter": "python",
   "pygments_lexer": "ipython3",
   "version": "3.8.10"
  },
  "orig_nbformat": 4
 },
 "nbformat": 4,
 "nbformat_minor": 2
}
